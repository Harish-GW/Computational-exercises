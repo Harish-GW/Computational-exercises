{
 "cells": [
  {
   "cell_type": "code",
   "execution_count": null,
   "metadata": {},
   "outputs": [],
   "source": [
    "import turtle as t"
   ]
  },
  {
   "cell_type": "code",
   "execution_count": 179,
   "metadata": {},
   "outputs": [],
   "source": [
    "t.speed(10)\n",
    "t.hideturtle()\n",
    "t.penup()\n",
    "t.goto(-100,0)\n",
    "t.pendown()\n",
    "screen=t.Screen()\n",
    "def koch(l,n):\n",
    "    if n==1:\n",
    "        t.forward(l/3)\n",
    "        t.right(60)\n",
    "        t.forward(l/3)\n",
    "        t.left(120)\n",
    "        t.forward(l/3)\n",
    "        t.right(60)\n",
    "        t.forward(l/3)\n",
    "    else:\n",
    "        koch(l/3,n-1)  \n",
    "        t.right(60) \n",
    "        koch(l/3,n-1) \n",
    "        t.left(120)\n",
    "        koch(l/3,n-1) \n",
    "        t.right(60)\n",
    "        koch(l/3,n-1) \n",
    "koch(300,4)\n",
    "t.left(120)\n",
    "koch(300,4)\n",
    "t.left(120)\n",
    "koch(300,4)\n",
    "t.exitonclick()\n"
   ]
  }
 ],
 "metadata": {
  "kernelspec": {
   "display_name": "base",
   "language": "python",
   "name": "python3"
  },
  "language_info": {
   "codemirror_mode": {
    "name": "ipython",
    "version": 3
   },
   "file_extension": ".py",
   "mimetype": "text/x-python",
   "name": "python",
   "nbconvert_exporter": "python",
   "pygments_lexer": "ipython3",
   "version": "3.11.7"
  }
 },
 "nbformat": 4,
 "nbformat_minor": 2
}
